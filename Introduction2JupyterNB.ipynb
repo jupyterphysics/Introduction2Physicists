{
 "cells": [
  {
   "cell_type": "markdown",
   "metadata": {},
   "source": [
    "# Introduction to Jupyter Notebooks"
   ]
  },
  {
   "cell_type": "markdown",
   "metadata": {},
   "source": [
    "### Introduction"
   ]
  },
  {
   "cell_type": "markdown",
   "metadata": {},
   "source": [
    "Jupyter Notebooks are interactive documents that are used in a browser. The interactivity is provided via cells that can contain Python (or other programming language) code. This code can be executed, provided that there is an engine active in the backgound. This engine can both be on your local computer, or on a remote server, where the notebooks reside. The documents are self contained files with the extension *.ipynb*. More on the engine later is this document. "
   ]
  },
  {
   "cell_type": "markdown",
   "metadata": {},
   "source": [
    "The advantage of this hybid documents is that a seemless integration of text (with instructions) and calculation cells can be made. Let us start with a simple example. In the cell below, a very simple mathematical operation is provided for you. If you run the cell (either by clicking on the Run-button, or press *shift-enter*), you will get the answer. "
   ]
  },
  {
   "cell_type": "code",
   "execution_count": 1,
   "metadata": {},
   "outputs": [
    {
     "data": {
      "text/plain": [
       "4"
      ]
     },
     "execution_count": 1,
     "metadata": {},
     "output_type": "execute_result"
    }
   ],
   "source": [
    "2+2"
   ]
  },
  {
   "cell_type": "markdown",
   "metadata": {},
   "source": [
    "First you notice, that the cell has a identifier *In[1]* and the output has an identifier *Out[1]*. The index is important, since it keeps track of the order of calculations. This is not determined by the sequencial ordering of the position in the document. (This is very similar to the use in **Mathematica**)."
   ]
  },
  {
   "cell_type": "markdown",
   "metadata": {},
   "source": [
    "Next, you are invited to change the content of the input cell to start a different calculation and get the result."
   ]
  },
  {
   "cell_type": "markdown",
   "metadata": {},
   "source": [
    "The engine used is the Python programming language. Since this is an interperter, you can write down line by line, however you can also put a combination of lines. So let us look at a few other examples:"
   ]
  },
  {
   "cell_type": "markdown",
   "metadata": {},
   "source": [
    "For programming languages, the first execution to try is:"
   ]
  },
  {
   "cell_type": "code",
   "execution_count": 2,
   "metadata": {},
   "outputs": [
    {
     "name": "stdout",
     "output_type": "stream",
     "text": [
      "Hello World!\n"
     ]
    }
   ],
   "source": [
    "print('Hello World!')"
   ]
  },
  {
   "cell_type": "markdown",
   "metadata": {},
   "source": [
    "Note that the output cell is given, however the identifier is not given in front of the output cell.  \n",
    "Now a multi-line piece of code, that calculates the square of a range of numbers:"
   ]
  },
  {
   "cell_type": "code",
   "execution_count": 3,
   "metadata": {},
   "outputs": [
    {
     "name": "stdout",
     "output_type": "stream",
     "text": [
      "The square of 0 is 0\n",
      "The square of 1 is 1\n",
      "The square of 2 is 4\n",
      "The square of 3 is 9\n",
      "The square of 4 is 16\n",
      "The square of 5 is 25\n",
      "The square of 6 is 36\n",
      "The square of 7 is 49\n",
      "The square of 8 is 64\n",
      "The square of 9 is 81\n"
     ]
    }
   ],
   "source": [
    "for n in range(10):\n",
    "    a = n**2\n",
    "    print(f'The square of {n} is {a}')"
   ]
  },
  {
   "cell_type": "markdown",
   "metadata": {},
   "source": [
    "Again feel free to modify the code in the cell, to explore the possibilities."
   ]
  },
  {
   "cell_type": "markdown",
   "metadata": {},
   "source": [
    "Since you know Python already, you can play and explore the environment."
   ]
  },
  {
   "cell_type": "markdown",
   "metadata": {},
   "source": [
    "### Use of packages and Libraries"
   ]
  },
  {
   "cell_type": "markdown",
   "metadata": {},
   "source": [
    "In the applications used in module 4 and 5, we make use of standard Python packages. It is recommended to import those at the beginning of the document. Most common libraries can be found in the cell below. Note that the libraries are imported with the addition of an alias, e.g. *as np* for the numpy package. This is a good habit to adopt, for two reasons:\n",
    "- By using the *np* alias, there is no unambiguaty on the definition of functions and function names; all functions for the numpy library have to be called with *np.* pre-fix, e.g. *np.pi*.\n",
    "- Using an alias with small number of characters, saves you a lot of typing.\n",
    "So let us import three libraries, that are often used (provided that these libraries are available on the system where the calculations are performed): "
   ]
  },
  {
   "cell_type": "code",
   "execution_count": 4,
   "metadata": {},
   "outputs": [],
   "source": [
    "import numpy as np\n",
    "import matplotlib.pyplot as plt\n",
    "import scipy.signal as sig"
   ]
  },
  {
   "cell_type": "markdown",
   "metadata": {},
   "source": [
    "As an example we define a matix and a vector as an example, to show both the formatting of the text (MarkDown) as well as the representation in the code. Let us evaluate the following expression in linear algebra:\n",
    "$$\n",
    "\\vec{q} = \n",
    "\\mathbb{A} \\cdot \\vec{p} \n",
    "$$\n",
    "with the matrix and the vector given by:\n",
    "$$\n",
    "\\mathbb{A} = \\left(\n",
    "\\begin{matrix}\n",
    "0 & 2 & 1 \\\\\n",
    "-1 & 0 & 3 \\\\\n",
    "-3 & 2 & -1\n",
    "\\end{matrix}\n",
    "\\right),\n",
    "\\;\n",
    "\\vec{p} = \\left(\n",
    "\\begin{matrix}\n",
    "1 \\\\\n",
    "-1 \\\\\n",
    "2\n",
    "\\end{matrix}\n",
    "\\right)\n",
    "$$"
   ]
  },
  {
   "cell_type": "code",
   "execution_count": 5,
   "metadata": {},
   "outputs": [
    {
     "name": "stdout",
     "output_type": "stream",
     "text": [
      "The result of the matrix multiplication is: q = \n",
      " [[ 0]\n",
      " [ 5]\n",
      " [-7]]\n"
     ]
    }
   ],
   "source": [
    "aa = np.array([[0, 2, 1],\n",
    "               [-1, 0, 3],\n",
    "               [-3, 2, -1]])\n",
    "p = np.array([[1],[-1],[2]])\n",
    "q = aa @ p\n",
    "print('The result of the matrix multiplication is: q = \\n',q)"
   ]
  },
  {
   "cell_type": "markdown",
   "metadata": {},
   "source": [
    "Comment on the use of *np.array*: to obtain a 3 by 3 2D matrix, double square brackets are used. Comparing the matrix in the text and the Python equivalent shows the ordening of the elements. "
   ]
  },
  {
   "cell_type": "markdown",
   "metadata": {},
   "source": [
    "For the vector the situation is a little different. In the example above we use double brackets to make a column vector. Applying a matrix of apropriate dimensions on the column vector produces again a column vector, as it should be.  \n",
    "Now let us define a row vector $p2$ by using single brackets: "
   ]
  },
  {
   "cell_type": "code",
   "execution_count": 6,
   "metadata": {},
   "outputs": [
    {
     "ename": "ValueError",
     "evalue": "matmul: Input operand 1 has a mismatch in its core dimension 0, with gufunc signature (n?,k),(k,m?)->(n?,m?) (size 1 is different from 3)",
     "output_type": "error",
     "traceback": [
      "\u001b[1;31m---------------------------------------------------------------------------\u001b[0m",
      "\u001b[1;31mValueError\u001b[0m                                Traceback (most recent call last)",
      "\u001b[1;32m<ipython-input-6-20f88759fdf6>\u001b[0m in \u001b[0;36m<module>\u001b[1;34m\u001b[0m\n\u001b[0;32m      1\u001b[0m \u001b[0mp2\u001b[0m \u001b[1;33m=\u001b[0m \u001b[0mnp\u001b[0m\u001b[1;33m.\u001b[0m\u001b[0marray\u001b[0m\u001b[1;33m(\u001b[0m\u001b[1;33m[\u001b[0m\u001b[1;33m[\u001b[0m\u001b[1;36m1\u001b[0m\u001b[1;33m,\u001b[0m\u001b[1;33m-\u001b[0m\u001b[1;36m1\u001b[0m\u001b[1;33m,\u001b[0m\u001b[1;36m2\u001b[0m\u001b[1;33m]\u001b[0m\u001b[1;33m]\u001b[0m\u001b[1;33m)\u001b[0m\u001b[1;33m\u001b[0m\u001b[1;33m\u001b[0m\u001b[0m\n\u001b[1;32m----> 2\u001b[1;33m \u001b[0mq2\u001b[0m \u001b[1;33m=\u001b[0m \u001b[0maa\u001b[0m \u001b[1;33m@\u001b[0m \u001b[0mp2\u001b[0m\u001b[1;33m\u001b[0m\u001b[1;33m\u001b[0m\u001b[0m\n\u001b[0m\u001b[0;32m      3\u001b[0m \u001b[0mprint\u001b[0m\u001b[1;33m(\u001b[0m\u001b[1;34m'The result of the matrix multiplication is: q = \\n'\u001b[0m\u001b[1;33m,\u001b[0m\u001b[0mq2\u001b[0m\u001b[1;33m)\u001b[0m\u001b[1;33m\u001b[0m\u001b[1;33m\u001b[0m\u001b[0m\n",
      "\u001b[1;31mValueError\u001b[0m: matmul: Input operand 1 has a mismatch in its core dimension 0, with gufunc signature (n?,k),(k,m?)->(n?,m?) (size 1 is different from 3)"
     ]
    }
   ],
   "source": [
    "p2 = np.array([[1,-1,2]])\n",
    "q2 = aa @ p2\n",
    "print('The result of the matrix multiplication is: q = \\n',q2)"
   ]
  },
  {
   "cell_type": "markdown",
   "metadata": {},
   "source": [
    "The result is the same, as if the matrix is working on a column vector, however there is a difference, that can be derived from the interchanging of the two objects in the matrix multiplication:"
   ]
  },
  {
   "cell_type": "code",
   "execution_count": null,
   "metadata": {},
   "outputs": [],
   "source": [
    "print('column vector time matrix gives',p@aa)"
   ]
  },
  {
   "cell_type": "code",
   "execution_count": null,
   "metadata": {},
   "outputs": [],
   "source": [
    "print('row vector time matrix gives',p2@aa)"
   ]
  },
  {
   "cell_type": "markdown",
   "metadata": {},
   "source": [
    "It is obvious that the second method should give a result, and the first one not, which shows consistency. Note that the row vector is NOT defined with singls brackets; in that case the object is a vector and shows no difference between row and column. \n",
    "Comparable results can be obtained by multipying various permutations of the row and column vectors. "
   ]
  },
  {
   "cell_type": "code",
   "execution_count": null,
   "metadata": {},
   "outputs": [],
   "source": [
    "p@p2  # should give a 3 by 3 matrix"
   ]
  },
  {
   "cell_type": "code",
   "execution_count": null,
   "metadata": {},
   "outputs": [],
   "source": [
    "p2@p   # should give a 1 by 1 matrix"
   ]
  },
  {
   "cell_type": "code",
   "execution_count": null,
   "metadata": {},
   "outputs": [],
   "source": [
    "p@p   # should not give a result due to a miss-match of dimensions"
   ]
  },
  {
   "cell_type": "code",
   "execution_count": null,
   "metadata": {},
   "outputs": [],
   "source": [
    "p2@p2   # should not give a result due to a miss-match of dimensions"
   ]
  },
  {
   "cell_type": "markdown",
   "metadata": {},
   "source": [
    "##### More advance funcions "
   ]
  },
  {
   "cell_type": "markdown",
   "metadata": {},
   "source": [
    "As soon as you have access to the libraries, you can perform more complicated calculations, like calculating the eigenvalues of the matrix:"
   ]
  },
  {
   "cell_type": "code",
   "execution_count": null,
   "metadata": {},
   "outputs": [],
   "source": [
    "np.linalg.eigvals(aa)"
   ]
  },
  {
   "cell_type": "code",
   "execution_count": null,
   "metadata": {},
   "outputs": [],
   "source": [
    "print(\"The eigen values of the A matrix are: \",np.linalg.eigvals(aa))"
   ]
  },
  {
   "cell_type": "markdown",
   "metadata": {},
   "source": [
    "For further use of functions, refer to the [numpy manual](https://www.numpy.org/doc) or the [numpy tutorial](https://www.numpy.org/devdocs/user/quickstart.html)."
   ]
  },
  {
   "cell_type": "markdown",
   "metadata": {},
   "source": [
    "Direct help on object can be obtained by typing the object directly followed by a question mark: e.g. **aa?** or **dir(aa)**.  \n",
    "The first help give a full description of the object, including methods that can be applied on the object, whereas the latter only gives a list of methods. The latter function can also be applied on package elements returning one level of methods for that function, e.g. **dir(np.linalg)** and **dir(np.linalg.det)**."
   ]
  },
  {
   "cell_type": "markdown",
   "metadata": {},
   "source": [
    "# Visualisation"
   ]
  },
  {
   "cell_type": "markdown",
   "metadata": {},
   "source": [
    "Visualisation is a essential part of calculations on physics problems. Numbers hardly ever are sufficient to get an impression of what is calculated.  \n",
    "For the visualisation in python the package matplotlib is used, and in many cases the *matplotlib.pyplot* is sufficient for daily plots.  \n",
    "For [Reference to MatPlotLib](https://matplotlib.org/users/index.html) or a [MatPlotLib Tutorial](https://matplotlib.org/tutorials/index.html), you can visit the extended web-sites. A very handy tool is the [MatPlotLib Galery](https://matplotlib.org/gallery/index.html) of plots, since the galery gives a quick access to code that is almost directly applicable to your situation. "
   ]
  },
  {
   "cell_type": "markdown",
   "metadata": {},
   "source": [
    "#### Example of plotting a Spectral density of a random signal"
   ]
  },
  {
   "cell_type": "markdown",
   "metadata": {},
   "source": [
    "Make a random signal of 1000 points, defined by a time signal $t$, a noise signal $nse$ and system function (For those who want to know tha background of the system function: this function is in fact the impuls-response for the system, or equivalently the inverse Laplace-Transform of the transfer function). \n",
    "This signal is the input signal for a system with a transfer function:\n",
    "$$\n",
    "H(s) = \\frac{1}{s+\\tau} \n",
    "$$\n",
    "Both the input signal in time and frequency domain are calculated."
   ]
  },
  {
   "cell_type": "code",
   "execution_count": null,
   "metadata": {},
   "outputs": [],
   "source": [
    "np.random.seed(20190815)    # Set a seed-value for the random-number generator process for reproducibility reasons.\n",
    "\n",
    "dt = 0.01   # [s]\n",
    "tau = 0.2   # [s]\n",
    "nu = 4.     # [Hz]\n",
    "t = np.arange(0, 10, dt)\n",
    "nse = np.random.randn(len(t))\n",
    "g = np.exp(-t / tau)"
   ]
  },
  {
   "cell_type": "markdown",
   "metadata": {},
   "source": [
    "The ouput of the system with a random-noise input is defined by the convolution of the input time signal with the system function. We define the following situations:\n",
    "* The input signal $s$ is a pure sine wave with frequency of $\\nu = 8$ Hz and a noise signal $nse$\n",
    "* The system function is an exponential decaying signal, which is equivalent with a first-order system, with time constant $\\tau$.  \n",
    "\n",
    "Now let us define the signals:"
   ]
  },
  {
   "cell_type": "code",
   "execution_count": null,
   "metadata": {},
   "outputs": [],
   "source": [
    "x = 2 * np.sin(nu * 2 * np.pi * t) + nse\n",
    "y = np.convolve(x, g) * dt\n",
    "y = y[:len(t)]"
   ]
  },
  {
   "cell_type": "code",
   "execution_count": null,
   "metadata": {},
   "outputs": [],
   "source": [
    "plt.figure(figsize=(10,5))\n",
    "plt.subplots_adjust(wspace = 0.4,hspace = 0.4)\n",
    "plt.subplot(221)\n",
    "plt.plot(t, x)\n",
    "plt.xlabel('t [s]')\n",
    "plt.ylabel('x(t)')\n",
    "plt.title(r'input signal $x(t) - X(\\omega)$')\n",
    "plt.grid(True)\n",
    "plt.subplot(222)\n",
    "plt.plot(t, y)\n",
    "plt.xlabel('t [s]')\n",
    "plt.ylabel('y(t)')\n",
    "plt.title(r'output signal $y(t) - Y(\\omega)$')\n",
    "plt.grid(True)\n",
    "plt.subplot(223)\n",
    "plt.psd(x, 512, 1 / dt)\n",
    "plt.subplot(224)\n",
    "plt.psd(y, 512, 1 / dt)\n",
    "plt.show()"
   ]
  },
  {
   "cell_type": "markdown",
   "metadata": {},
   "source": [
    "##### Resutls and analysis"
   ]
  },
  {
   "cell_type": "markdown",
   "metadata": {},
   "source": [
    "The left column contains the input signal, in time representation, as well as in the frequency domain. The left column contains the output of the system. The sinusoidal signal is clearly identified at 4 Hz in both spectra. The difference between the input and the output is that the frequencies above 5 Hz are attenuated. You can observe this in the spectral density plot of the output signal.  \n",
    "Feel free to play with the parameters and observe the effect in the output. "
   ]
  },
  {
   "cell_type": "markdown",
   "metadata": {},
   "source": [
    "## The Jupyter Environment"
   ]
  },
  {
   "cell_type": "code",
   "execution_count": null,
   "metadata": {},
   "outputs": [],
   "source": []
  },
  {
   "cell_type": "markdown",
   "metadata": {},
   "source": [
    "## Text formatting in MarkDown"
   ]
  },
  {
   "cell_type": "markdown",
   "metadata": {},
   "source": [
    "The text formatting in Jupyter Notebooks is based on MarkDown. This is a powerfull formatting language, since it is simple but versatile. "
   ]
  },
  {
   "cell_type": "code",
   "execution_count": null,
   "metadata": {},
   "outputs": [],
   "source": []
  }
 ],
 "metadata": {
  "kernelspec": {
   "display_name": "Python 3",
   "language": "python",
   "name": "python3"
  },
  "language_info": {
   "codemirror_mode": {
    "name": "ipython",
    "version": 3
   },
   "file_extension": ".py",
   "mimetype": "text/x-python",
   "name": "python",
   "nbconvert_exporter": "python",
   "pygments_lexer": "ipython3",
   "version": "3.7.3"
  }
 },
 "nbformat": 4,
 "nbformat_minor": 2
}
