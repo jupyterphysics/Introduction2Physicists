{
 "cells": [
  {
   "cell_type": "markdown",
   "metadata": {},
   "source": [
    "# Non-linear Fit Procedure"
   ]
  },
  {
   "cell_type": "markdown",
   "metadata": {},
   "source": [
    "##### Initialize"
   ]
  },
  {
   "cell_type": "code",
   "execution_count": 1,
   "metadata": {},
   "outputs": [],
   "source": [
    "import numpy as np\n",
    "from scipy.optimize import curve_fit\n",
    "import matplotlib.pyplot as plt"
   ]
  },
  {
   "cell_type": "markdown",
   "metadata": {},
   "source": [
    "Define the fitting function:  \n",
    "$$\n",
    "f(x) = a e^{-b x} + c\n",
    "$$\n",
    "with $a$, $b$ and $c$ the paramters to be determined in the fit."
   ]
  },
  {
   "cell_type": "code",
   "execution_count": 2,
   "metadata": {},
   "outputs": [],
   "source": [
    "def myfunc(x, a, b, c):\n",
    "    return a * np.exp(-b * x) + c"
   ]
  },
  {
   "cell_type": "markdown",
   "metadata": {},
   "source": [
    "Generate some data."
   ]
  },
  {
   "cell_type": "code",
   "execution_count": 3,
   "metadata": {},
   "outputs": [],
   "source": [
    "#define some data\n",
    "xdata = np.linspace(0, 4, 50)\n",
    "y = myfunc(xdata, 2.5, 1.3, 0.5)\n",
    "# add some noise.\n",
    "np.random.seed(1729)\n",
    "y_noise = 0.2 * np.random.normal(size=xdata.size)\n",
    "ydata = y + y_noise"
   ]
  },
  {
   "cell_type": "markdown",
   "metadata": {},
   "source": [
    "##### Prepare for the fitting."
   ]
  },
  {
   "cell_type": "markdown",
   "metadata": {},
   "source": [
    "Set some initial values to seed the fit procedure. "
   ]
  },
  {
   "cell_type": "code",
   "execution_count": 4,
   "metadata": {},
   "outputs": [],
   "source": [
    "a0, b0, c0 = 3, 2, 1"
   ]
  },
  {
   "cell_type": "markdown",
   "metadata": {},
   "source": [
    "Fit the data to the model. The name of the function $myfunc$ is supplied as an argument in the call of the fit function. "
   ]
  },
  {
   "cell_type": "code",
   "execution_count": 5,
   "metadata": {},
   "outputs": [],
   "source": [
    "#the return values contain the fitparameters and the covariance matrix\n",
    "popt, pcov = curve_fit(myfunc, xdata, ydata, p0=[a0, b0, c0], absolute_sigma=False)"
   ]
  },
  {
   "cell_type": "markdown",
   "metadata": {},
   "source": [
    "Plot the result of the fit with the original data."
   ]
  },
  {
   "cell_type": "code",
   "execution_count": 6,
   "metadata": {},
   "outputs": [
    {
     "data": {
      "image/png": "[encoded data removed]",
      "text/plain": [
       "<Figure size 432x432 with 1 Axes>"
      ]
     },
     "metadata": {
      "needs_background": "light"
     },
     "output_type": "display_data"
    }
   ],
   "source": [
    "plt.figure(figsize=(6,6))\n",
    "plt.plot(xdata, ydata, marker='o', lw=0, label='data')\n",
    "plt.plot(xdata, myfunc(xdata, *popt), 'r-',\n",
    "         label='fit: a={:5.3f}, b={:5.3f}, c={:5.3f}'.format(*tuple(popt)))\n",
    "plt.legend()\n",
    "plt.xlabel('x')\n",
    "plt.ylabel('y')\n",
    "plt.grid(True)\n",
    "plt.show()"
   ]
  },
  {
   "cell_type": "raw",
   "metadata": {},
   "source": [
    "Print the result of the fit:"
   ]
  },
  {
   "cell_type": "code",
   "execution_count": 7,
   "metadata": {},
   "outputs": [
    {
     "name": "stdout",
     "output_type": "stream",
     "text": [
      "The optimal parameters are: \n",
      "a =     2.55, b =     1.35 and c =     0.47\n",
      "Corresponding standard deviations are: \n",
      "sa =     0.13, sb =     0.14, sc =     0.05\n"
     ]
    }
   ],
   "source": [
    "print(f'The optimal parameters are: \\na = {popt[0]:8.2f}, b = {popt[1]:8.2f} and c = {popt[2]:8.2f}')\n",
    "\n",
    "# The standard diviations are the square root of the diagonoal elements of the covariance matrix pcov\n",
    "stdev = np.sqrt(np.diag(pcov))\n",
    "print(f'Corresponding standard deviations are: \\nsa = {stdev[0]:8.2f}, sb = {stdev[1]:8.2f}, sc = {stdev[2]:8.2f}',)"
   ]
  },
  {
   "cell_type": "code",
   "execution_count": null,
   "metadata": {},
   "outputs": [],
   "source": []
  }
 ],
 "metadata": {
  "kernelspec": {
   "display_name": "Python 3",
   "language": "python",
   "name": "python3"
  },
  "language_info": {
   "codemirror_mode": {
    "name": "ipython",
    "version": 3
   },
   "file_extension": ".py",
   "mimetype": "text/x-python",
   "name": "python",
   "nbconvert_exporter": "python",
   "pygments_lexer": "ipython3",
   "version": "3.7.3"
  }
 },
 "nbformat": 4,
 "nbformat_minor": 2
}
